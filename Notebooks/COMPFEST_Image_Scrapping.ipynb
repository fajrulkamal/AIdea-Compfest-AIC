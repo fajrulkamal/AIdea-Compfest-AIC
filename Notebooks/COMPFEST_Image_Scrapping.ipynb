{
  "nbformat": 4,
  "nbformat_minor": 0,
  "metadata": {
    "colab": {
      "provenance": [],
      "include_colab_link": true
    },
    "kernelspec": {
      "name": "python3",
      "display_name": "Python 3"
    },
    "language_info": {
      "name": "python"
    }
  },
  "cells": [
    {
      "cell_type": "markdown",
      "metadata": {
        "id": "view-in-github",
        "colab_type": "text"
      },
      "source": [
        "<a href=\"https://colab.research.google.com/github/fajrulkamal/AIdea-Compfest-AIC/blob/main/Notebooks/COMPFEST_Image_Scrapping.ipynb\" target=\"_parent\"><img src=\"https://colab.research.google.com/assets/colab-badge.svg\" alt=\"Open In Colab\"/></a>"
      ]
    },
    {
      "cell_type": "code",
      "execution_count": null,
      "metadata": {
        "colab": {
          "base_uri": "https://localhost:8080/"
        },
        "id": "5kJSBugDmqUW",
        "outputId": "eb71700b-aeba-4e14-ded3-55cffde48d0c"
      },
      "outputs": [
        {
          "output_type": "stream",
          "name": "stdout",
          "text": [
            "Requirement already satisfied: beautifulsoup4 in /usr/local/lib/python3.10/dist-packages (4.11.2)\n",
            "Requirement already satisfied: soupsieve>1.2 in /usr/local/lib/python3.10/dist-packages (from beautifulsoup4) (2.4.1)\n",
            "Requirement already satisfied: requests in /usr/local/lib/python3.10/dist-packages (2.27.1)\n",
            "Requirement already satisfied: urllib3<1.27,>=1.21.1 in /usr/local/lib/python3.10/dist-packages (from requests) (1.26.16)\n",
            "Requirement already satisfied: certifi>=2017.4.17 in /usr/local/lib/python3.10/dist-packages (from requests) (2023.7.22)\n",
            "Requirement already satisfied: charset-normalizer~=2.0.0 in /usr/local/lib/python3.10/dist-packages (from requests) (2.0.12)\n",
            "Requirement already satisfied: idna<4,>=2.5 in /usr/local/lib/python3.10/dist-packages (from requests) (3.4)\n"
          ]
        }
      ],
      "source": [
        "!pip install beautifulsoup4\n",
        "!pip install requests"
      ]
    },
    {
      "cell_type": "code",
      "source": [
        "from google.colab import drive\n",
        "drive.mount('/content/drive')"
      ],
      "metadata": {
        "colab": {
          "base_uri": "https://localhost:8080/"
        },
        "id": "Fsk-GK7ba-9d",
        "outputId": "899e7674-bf76-4e04-d146-b32a6a4b7b41"
      },
      "execution_count": null,
      "outputs": [
        {
          "output_type": "stream",
          "name": "stdout",
          "text": [
            "Mounted at /content/drive\n"
          ]
        }
      ]
    },
    {
      "cell_type": "code",
      "source": [
        "import requests\n",
        "from bs4 import BeautifulSoup\n",
        "import os\n",
        "\n",
        "# Fungsi untuk mendownload gambar\n",
        "def download_image(image_url, folder_name, image_name):\n",
        "    response = requests.get(image_url)\n",
        "    with open(os.path.join(folder_name, image_name), 'wb') as file:\n",
        "        file.write(response.content)\n",
        "\n",
        "# URL website yang ingin di-scrape\n",
        "url = \"https://dermnetnz.org/images/seborrhoeic-dermatitis-images\"\n",
        "\n",
        "# Mengambil konten HTML dari website\n",
        "response = requests.get(url)\n",
        "soup = BeautifulSoup(response.content, 'html.parser')\n",
        "\n",
        "# Membuat folder untuk menyimpan gambar (jika belum ada)\n",
        "folder_name = \"/content/drive/MyDrive/Dataset/seborrhoeic_dermatitis\"\n",
        "if not os.path.exists(folder_name):\n",
        "    os.mkdir(folder_name)\n",
        "\n",
        "# Mencari tag <img> dengan atribut alt=\"Seborrhoiec dermatitis\" dan mendapatkan URL gambar\n",
        "image_tags = soup.find_all('img', alt=\"Seborrhoiec dermatitis\")\n",
        "for index, img_tag in enumerate(image_tags):\n",
        "    image_url = \"https://dermnetnz.org\" + img_tag['src']\n",
        "    image_name = f\"seborrhoiec-dermatitis-{index}.jpg\"\n",
        "    download_image(image_url, folder_name, image_name)\n",
        "print(f\"Jumlah total gambar yang diunduh: {len(image_tags)}\")"
      ],
      "metadata": {
        "colab": {
          "base_uri": "https://localhost:8080/"
        },
        "id": "8yc3xxwDmrbD",
        "outputId": "36c4d990-6e2b-491f-e4d2-7851e2f89ce6"
      },
      "execution_count": null,
      "outputs": [
        {
          "output_type": "stream",
          "name": "stdout",
          "text": [
            "Jumlah total gambar yang diunduh: 40\n"
          ]
        }
      ]
    },
    {
      "cell_type": "code",
      "source": [
        "# URL website yang ingin di-scrape\n",
        "url = \"https://dermnetnz.org/images/alopecia-areata-images\"\n",
        "\n",
        "# Mengambil konten HTML dari website\n",
        "response = requests.get(url)\n",
        "soup = BeautifulSoup(response.content, 'html.parser')\n",
        "\n",
        "# Membuat folder untuk menyimpan gambar (jika belum ada)\n",
        "folder_name = \"/content/drive/MyDrive/Dataset/alopecia_areata\"\n",
        "if not os.path.exists(folder_name):\n",
        "    os.mkdir(folder_name)\n",
        "\n",
        "# Mencari tag <img> dengan atribut alt=\"Alopecia areata\" dan mendapatkan URL gambar\n",
        "image_tags = soup.find_all('img', alt=\"Alopecia areata\")\n",
        "for index, img_tag in enumerate(image_tags):\n",
        "    image_url = \"https://dermnetnz.org\" + img_tag['src']\n",
        "    image_name = f\"alopecia-areata-{index}.jpg\"\n",
        "    download_image(image_url, folder_name, image_name)\n",
        "print(f\"Jumlah total gambar yang diunduh: {len(image_tags)}\")"
      ],
      "metadata": {
        "colab": {
          "base_uri": "https://localhost:8080/"
        },
        "id": "WtXJTgxGuTEx",
        "outputId": "5ffab591-e26f-4fb8-d247-0520f66f39da"
      },
      "execution_count": null,
      "outputs": [
        {
          "output_type": "stream",
          "name": "stdout",
          "text": [
            "Jumlah total gambar yang diunduh: 61\n"
          ]
        }
      ]
    },
    {
      "cell_type": "code",
      "source": [
        "# URL website yang ingin di-scrape\n",
        "url = \"https://dermnetnz.org/images/scalp-psoriasis-images\"\n",
        "\n",
        "# Mengambil konten HTML dari website\n",
        "response = requests.get(url)\n",
        "soup = BeautifulSoup(response.content, 'html.parser')\n",
        "\n",
        "# Membuat folder untuk menyimpan gambar (jika belum ada)\n",
        "folder_name = \"/content/drive/MyDrive/Dataset/scalp-psoriasis\"\n",
        "if not os.path.exists(folder_name):\n",
        "    os.mkdir(folder_name)\n",
        "\n",
        "# Mencari tag <img> dengan atribut alt=\"Scalp psoriasis\" dan mendapatkan URL gambar\n",
        "image_tags = soup.find_all('img', alt=\"Scalp psoriasis\")\n",
        "for index, img_tag in enumerate(image_tags):\n",
        "    image_url = \"https://dermnetnz.org\" + img_tag['src']\n",
        "    image_name = f\"scalp-psoriasis-{index}.jpg\"\n",
        "    download_image(image_url, folder_name, image_name)\n",
        "print(f\"Jumlah total gambar yang diunduh: {len(image_tags)}\")"
      ],
      "metadata": {
        "colab": {
          "base_uri": "https://localhost:8080/"
        },
        "id": "QvqtcgH7u7Ge",
        "outputId": "d14646da-8bf7-42cb-f162-80b3b8e38e99"
      },
      "execution_count": null,
      "outputs": [
        {
          "output_type": "stream",
          "name": "stdout",
          "text": [
            "Jumlah total gambar yang diunduh: 31\n"
          ]
        }
      ]
    },
    {
      "cell_type": "code",
      "source": [
        "# URL website yang ingin di-scrape\n",
        "url = \"https://dermnetnz.org/images/tinea-capitis-images\"\n",
        "\n",
        "# Mengambil konten HTML dari website\n",
        "response = requests.get(url)\n",
        "soup = BeautifulSoup(response.content, 'html.parser')\n",
        "\n",
        "# Membuat folder untuk menyimpan gambar (jika belum ada)\n",
        "folder_name = \"/content/drive/MyDrive/Dataset/tinea-capitis\"\n",
        "if not os.path.exists(folder_name):\n",
        "    os.mkdir(folder_name)\n",
        "\n",
        "# Mencari tag <img> dengan atribut alt=\"Tinea capitis\" dan mendapatkan URL gambar\n",
        "image_tags = soup.find_all('img', alt=\"Tinea capitis\")\n",
        "for index, img_tag in enumerate(image_tags):\n",
        "    image_url = \"https://dermnetnz.org\" + img_tag['src']\n",
        "    image_name = f\"tinea-capitis-{index}.jpg\"\n",
        "    download_image(image_url, folder_name, image_name)\n",
        "print(f\"Jumlah total gambar yang diunduh: {len(image_tags)}\")"
      ],
      "metadata": {
        "colab": {
          "base_uri": "https://localhost:8080/"
        },
        "id": "Tb3CFjQW9miv",
        "outputId": "7b435d1a-a608-4287-9fd3-bac21a76396f"
      },
      "execution_count": null,
      "outputs": [
        {
          "output_type": "stream",
          "name": "stdout",
          "text": [
            "Jumlah total gambar yang diunduh: 14\n"
          ]
        }
      ]
    },
    {
      "cell_type": "code",
      "source": [
        "# URL website yang ingin di-scrape\n",
        "url = \"https://www.atlasdermatologico.com.br/disease.jsf?diseaseId=24\"\n",
        "\n",
        "# Mengambil konten HTML dari website\n",
        "response = requests.get(url)\n",
        "soup = BeautifulSoup(response.content, 'html.parser')\n",
        "\n",
        "# Membuat folder untuk menyimpan gambar (jika belum ada)\n",
        "folder_name = \"/content/drive/MyDrive/Dataset/alopecia-areata-atlas\"\n",
        "if not os.path.exists(folder_name):\n",
        "    os.mkdir(folder_name)\n",
        "\n",
        "# Mencari tag <img> dengan atribut alt=\"alopecia areata\" dan mendapatkan URL gambar\n",
        "image_tags = soup.find_all('img', alt=\"alopecia areata\")\n",
        "for index, img_tag in enumerate(image_tags):\n",
        "    image_url = \"https://www.atlasdermatologico.com.br/\" + img_tag['src']\n",
        "    image_name = f\"alopecia-areata-atlas{index}.jpg\"\n",
        "    download_image(image_url, folder_name, image_name)\n",
        "print(f\"Jumlah total gambar yang diunduh: {len(image_tags)}\")"
      ],
      "metadata": {
        "id": "1jcxNrg8wmNa",
        "colab": {
          "base_uri": "https://localhost:8080/"
        },
        "outputId": "3c7d0500-b8c6-4cc0-b8df-d0473ef779d2"
      },
      "execution_count": null,
      "outputs": [
        {
          "output_type": "stream",
          "name": "stdout",
          "text": [
            "Jumlah total gambar yang diunduh: 72\n"
          ]
        }
      ]
    },
    {
      "cell_type": "code",
      "source": [
        "# URL website yang ingin di-scrape\n",
        "url = \"https://www.atlasdermatologico.com.br/disease.jsf?diseaseId=453\"\n",
        "\n",
        "# Mengambil konten HTML dari website\n",
        "response = requests.get(url)\n",
        "soup = BeautifulSoup(response.content, 'html.parser')\n",
        "\n",
        "# Membuat folder untuk menyimpan gambar (jika belum ada)\n",
        "folder_name = \"/content/drive/MyDrive/Dataset/tinea-capitis-atlas\"\n",
        "if not os.path.exists(folder_name):\n",
        "    os.mkdir(folder_name)\n",
        "\n",
        "# Mencari tag <img> dengan atribut alt=\"tinea capitis\" dan mendapatkan URL gambar\n",
        "image_tags = soup.find_all('img', alt=\"tinea capitis\")\n",
        "for index, img_tag in enumerate(image_tags):\n",
        "    image_url = \"https://www.atlasdermatologico.com.br/\" + img_tag['src']\n",
        "    image_name = f\"tinea-capitis-atlas{index}.jpg\"\n",
        "    download_image(image_url, folder_name, image_name)\n",
        "print(f\"Jumlah total gambar yang diunduh: {len(image_tags)}\")"
      ],
      "metadata": {
        "colab": {
          "base_uri": "https://localhost:8080/"
        },
        "id": "ZFq-zKNu9RNG",
        "outputId": "e777de81-c4e7-4817-a8e1-5bf91787f713"
      },
      "execution_count": null,
      "outputs": [
        {
          "output_type": "stream",
          "name": "stdout",
          "text": [
            "Jumlah total gambar yang diunduh: 60\n"
          ]
        }
      ]
    },
    {
      "cell_type": "code",
      "source": [
        "import requests\n",
        "from bs4 import BeautifulSoup\n",
        "import os\n",
        "\n",
        "def download_images(url, save_folder):\n",
        "    # Buat folder untuk menyimpan gambar jika belum ada\n",
        "    if not os.path.exists(save_folder):\n",
        "        os.makedirs(save_folder)\n",
        "\n",
        "    # Tambahkan header User-Agent\n",
        "    headers = {\n",
        "        'User-Agent': 'Mozilla/5.0 (Windows NT 10.0; Win64; x64) AppleWebKit/537.36 (KHTML, like Gecko) Chrome/58.0.3029.110 Safari/537.3'}\n",
        "\n",
        "    response = requests.get(url, headers=headers)\n",
        "    soup = BeautifulSoup(response.content, 'html.parser')\n",
        "\n",
        "    # Cari elemen gambar dengan tag <img>\n",
        "    img_elements = soup.find_all('img')\n",
        "\n",
        "    for img in img_elements:\n",
        "        # Ambil URL gambar dari atribut 'src'\n",
        "        img_url = img.get('src')\n",
        "\n",
        "        # Pastikan URL gambar valid dan tidak kosong\n",
        "        if img_url and 'http' in img_url:\n",
        "            try:\n",
        "                # Unduh gambar\n",
        "                img_response = requests.get(img_url, headers=headers)\n",
        "                img_name = os.path.basename(img_url)\n",
        "\n",
        "                # Simpan gambar dalam folder yang ditentukan\n",
        "                with open(os.path.join(save_folder, img_name), 'wb') as img_file:\n",
        "                    img_file.write(img_response.content)\n",
        "\n",
        "                print(f\"Gambar {img_name} berhasil diunduh.\")\n",
        "            except Exception as e:\n",
        "                print(f\"Error saat mengunduh gambar {img_url}: {e}\")\n",
        "\n",
        "if __name__ == \"__main__\":\n",
        "    # URL halaman yang akan di-scrape\n",
        "    url = \"https://www.dermaamin.com/site/atlas-of-dermatology/15-p/1373-psoriasis-of-the-scalp-.html\"\n",
        "\n",
        "    # Folder tempat menyimpan gambar\n",
        "    save_folder = \"/content/drive/MyDrive/Dataset/scalp-psoriasis-dermaamin\"\n",
        "\n",
        "    # Jalankan fungsi untuk mengunduh gambar\n",
        "    download_images(url, save_folder)"
      ],
      "metadata": {
        "colab": {
          "base_uri": "https://localhost:8080/"
        },
        "id": "_jGGHJaaB144",
        "outputId": "d13015b6-b9fb-4229-e4b3-0e59899574d0"
      },
      "execution_count": null,
      "outputs": [
        {
          "output_type": "stream",
          "name": "stdout",
          "text": [
            "Error saat mengunduh gambar http://s03.flagcounter.com/count/Yxz/bg=FFFFFF/txt=000000/border=CCCCCC/columns=2/maxflags=12/viewers=0/labels=0/: [Errno 21] Is a directory: '/content/drive/MyDrive/Dataset/scalp-psoriasis-dermaamin/'\n",
            "Gambar clinical.jpg berhasil diunduh.\n",
            "Gambar histo.jpg berhasil diunduh.\n",
            "Gambar 1373_psoriasis-scalp1.jpg berhasil diunduh.\n",
            "Gambar 1373_psoriasis-scalp2.jpg berhasil diunduh.\n",
            "Gambar 1373_psoriasis-scalp3.jpg berhasil diunduh.\n",
            "Gambar 1373_psoriasis-scalp4.jpg berhasil diunduh.\n",
            "Gambar 1373_psoriasis-scalp5.jpg berhasil diunduh.\n",
            "Gambar 1373_psoriasis-scalp6.jpg berhasil diunduh.\n",
            "Gambar 1373_psoriasis-scalp7.jpg berhasil diunduh.\n",
            "Gambar 1373_psoriasis-scalp8.jpg berhasil diunduh.\n",
            "Gambar 1373_psoriasis-scalp9.jpg berhasil diunduh.\n",
            "Gambar 1373_psoriasis-scalp10.jpg berhasil diunduh.\n",
            "Gambar 1373_psoriasis-scalp11.jpg berhasil diunduh.\n",
            "Gambar 1373_psoriasis-scalp12.jpg berhasil diunduh.\n",
            "Gambar 1373_psoriasis-scalp13.jpg berhasil diunduh.\n",
            "Gambar 1373_psoriasis-scalp14.jpg berhasil diunduh.\n",
            "Gambar 1373_psoriasis-scalp15.jpg berhasil diunduh.\n",
            "Gambar 1373_psoriasis-scalp16.jpg berhasil diunduh.\n",
            "Gambar 1373_psoriasis-scalp17.jpg berhasil diunduh.\n",
            "Gambar 1373_psoriasis-scalp18.jpg berhasil diunduh.\n",
            "Gambar 1373_psoriasis-scalp19.jpg berhasil diunduh.\n",
            "Gambar 1373_psoriasis-scalp20.jpg berhasil diunduh.\n",
            "Gambar 1373_psoriasis-scalp21.jpg berhasil diunduh.\n",
            "Gambar 1373_psoriasis-scalp22.jpg berhasil diunduh.\n",
            "Gambar 1373_psoriasis-scalp23.jpg berhasil diunduh.\n",
            "Gambar 1373_psoriasis-scalp24.jpg berhasil diunduh.\n",
            "Gambar 1373_psoriasis-scalp25.jpg berhasil diunduh.\n",
            "Gambar 1373_psoriasis-scalp26.jpg berhasil diunduh.\n",
            "Gambar 1373_psoriasis-scalp27.jpg berhasil diunduh.\n",
            "Gambar 1373_psoriasis-scalp28.jpg berhasil diunduh.\n",
            "Gambar 1373_psoriasis-scalp29.jpg berhasil diunduh.\n"
          ]
        }
      ]
    },
    {
      "cell_type": "code",
      "source": [
        "import requests\n",
        "from bs4 import BeautifulSoup\n",
        "import os\n",
        "\n",
        "def download_images(url, save_folder):\n",
        "    # Buat folder untuk menyimpan gambar jika belum ada\n",
        "    if not os.path.exists(save_folder):\n",
        "        os.makedirs(save_folder)\n",
        "\n",
        "    # Tambahkan header User-Agent\n",
        "    headers = {\n",
        "        'User-Agent': 'Mozilla/5.0 (Windows NT 10.0; Win64; x64) AppleWebKit/537.36 (KHTML, like Gecko) Chrome/58.0.3029.110 Safari/537.3'}\n",
        "\n",
        "    response = requests.get(url, headers=headers)\n",
        "    soup = BeautifulSoup(response.content, 'html.parser')\n",
        "\n",
        "    # Cari elemen gambar dengan tag <img>\n",
        "    img_elements = soup.find_all('img')\n",
        "\n",
        "    for img in img_elements:\n",
        "        # Ambil URL gambar dari atribut 'src'\n",
        "        img_url = img.get('src')\n",
        "\n",
        "        # Pastikan URL gambar valid dan tidak kosong\n",
        "        if img_url and 'http' in img_url:\n",
        "            try:\n",
        "                # Unduh gambar\n",
        "                img_response = requests.get(img_url, headers=headers)\n",
        "                img_name = os.path.basename(img_url)\n",
        "\n",
        "                # Simpan gambar dalam folder yang ditentukan\n",
        "                with open(os.path.join(save_folder, img_name), 'wb') as img_file:\n",
        "                    img_file.write(img_response.content)\n",
        "\n",
        "                print(f\"Gambar {img_name} berhasil diunduh.\")\n",
        "            except Exception as e:\n",
        "                print(f\"Error saat mengunduh gambar {img_url}: {e}\")\n",
        "\n",
        "if __name__ == \"__main__\":\n",
        "    # URL halaman yang akan di-scrape\n",
        "    url = \"https://www.dermaamin.com/site/atlas-of-dermatology/19-t/1422-tinea-capitis-.html\"\n",
        "\n",
        "    # Folder tempat menyimpan gambar\n",
        "    save_folder = \"/content/drive/MyDrive/Dataset/tinea-capitis-dermaamin\"\n",
        "\n",
        "    # Jalankan fungsi untuk mengunduh gambar\n",
        "    download_images(url, save_folder)"
      ],
      "metadata": {
        "colab": {
          "base_uri": "https://localhost:8080/"
        },
        "id": "zH39c-UxB2MF",
        "outputId": "1946f275-96d0-4ec5-ffca-a9898d164352"
      },
      "execution_count": null,
      "outputs": [
        {
          "output_type": "stream",
          "name": "stdout",
          "text": [
            "Error saat mengunduh gambar http://s03.flagcounter.com/count/Yxz/bg=FFFFFF/txt=000000/border=CCCCCC/columns=2/maxflags=12/viewers=0/labels=0/: [Errno 21] Is a directory: '/content/drive/MyDrive/Dataset/tinea-capitis-dermaamin/'\n",
            "Gambar clinical.jpg berhasil diunduh.\n",
            "Gambar histo.jpg berhasil diunduh.\n",
            "Gambar 1422_tinea-capitis1.jpg berhasil diunduh.\n",
            "Gambar 1422_tinea-capitis2.jpg berhasil diunduh.\n",
            "Gambar 1422_tinea-capitis3.jpg berhasil diunduh.\n",
            "Gambar 1422_tinea-capitis4.jpg berhasil diunduh.\n",
            "Gambar 1422_tinea-capitis5.jpg berhasil diunduh.\n",
            "Gambar 1422_tinea-capitis6.jpg berhasil diunduh.\n",
            "Gambar 1422_tinea-capitis7.jpg berhasil diunduh.\n",
            "Gambar 1422_tinea-capitis8.jpg berhasil diunduh.\n",
            "Gambar 1422_tinea-capitis9.jpg berhasil diunduh.\n",
            "Gambar 1422_tinea-capitis10.jpg berhasil diunduh.\n",
            "Gambar 1422_tinea-capitis11.jpg berhasil diunduh.\n",
            "Gambar 1422_tinea-capitis12.jpg berhasil diunduh.\n",
            "Gambar 1422_tinea-capitis13.jpg berhasil diunduh.\n",
            "Gambar 1422_tinea-capitis14.jpg berhasil diunduh.\n",
            "Gambar 1422_tinea-capitis15.jpg berhasil diunduh.\n",
            "Gambar 1422_tinea-capitis16.jpg berhasil diunduh.\n",
            "Gambar 1422_tinea-capitis17.jpg berhasil diunduh.\n",
            "Gambar 1422_tinea-capitis18.jpg berhasil diunduh.\n",
            "Gambar 1422_tinea-capitis19.jpg berhasil diunduh.\n",
            "Gambar 1422_tinea-capitis20.jpg berhasil diunduh.\n",
            "Gambar 1422_tinea-capitis21.jpg berhasil diunduh.\n",
            "Gambar 1422_tinea-capitis22.jpg berhasil diunduh.\n",
            "Gambar 1422_tinea-capitis23.jpg berhasil diunduh.\n",
            "Gambar 1422_tinea-capitis24.jpg berhasil diunduh.\n",
            "Gambar 1422_tinea-capitis25.jpg berhasil diunduh.\n",
            "Gambar 1422_tinea-capitis26.jpg berhasil diunduh.\n",
            "Gambar 1422_tinea-capitis27.jpg berhasil diunduh.\n",
            "Gambar 1422_tinea-capitis28.jpg berhasil diunduh.\n",
            "Gambar 1422_tinea-capitis30.jpg berhasil diunduh.\n",
            "Gambar 1422_tinea-capitis31.jpg berhasil diunduh.\n",
            "Gambar 1422_tinea-capitis32.jpg berhasil diunduh.\n",
            "Gambar 1422_tinea-capitis33.jpg berhasil diunduh.\n",
            "Gambar 1422_tinea-capitis34.jpg berhasil diunduh.\n",
            "Gambar 1422_tinea-capitis35.jpg berhasil diunduh.\n",
            "Gambar 1422_tinea-capitis36.jpg berhasil diunduh.\n",
            "Gambar 1422_tinea-capitis37.jpg berhasil diunduh.\n",
            "Gambar 1422_tinea-capitis38.jpg berhasil diunduh.\n",
            "Gambar 1422_tinea-capitis39.jpg berhasil diunduh.\n",
            "Gambar 1422_tinea-capitis40.jpg berhasil diunduh.\n",
            "Gambar 1422_tinea-capitis41.jpg berhasil diunduh.\n",
            "Gambar 1422_tinea-capitis43.jpg berhasil diunduh.\n",
            "Gambar 1422_tinea-capitis44.jpg berhasil diunduh.\n",
            "Gambar 1422_tinea-capitis45.jpg berhasil diunduh.\n",
            "Gambar 1422_tinea-capitis46.jpg berhasil diunduh.\n",
            "Gambar 1422_tinea-capitis47.jpg berhasil diunduh.\n",
            "Gambar 1422_tinea-capitis48.jpg berhasil diunduh.\n",
            "Gambar 1422_tinea-capitis49.jpg berhasil diunduh.\n",
            "Gambar 1422_tinea-capitis50.jpg berhasil diunduh.\n",
            "Gambar 1422_tinea-capitis51.jpg berhasil diunduh.\n",
            "Gambar 1422_tinea-capitis52.jpg berhasil diunduh.\n",
            "Gambar 1422_tinea-capitis53.jpg berhasil diunduh.\n",
            "Gambar 1422_tinea-capitis54.jpg berhasil diunduh.\n",
            "Gambar 1422_tinea-capitis55.jpg berhasil diunduh.\n",
            "Gambar 1422_tinea-capitis56.jpg berhasil diunduh.\n",
            "Gambar 1422_tinea-capitis57.jpg berhasil diunduh.\n",
            "Gambar 1422_tinea-capitis58.jpg berhasil diunduh.\n",
            "Gambar 1422_tinea-capitis59.jpg berhasil diunduh.\n",
            "Gambar 1422_tinea-capitis60.jpg berhasil diunduh.\n",
            "Gambar 1422_tinea-capitis61.jpg berhasil diunduh.\n",
            "Gambar 1422_tinea-capitis62.jpg berhasil diunduh.\n",
            "Gambar 1422_tinea-capitis63.jpg berhasil diunduh.\n",
            "Gambar 1422_tinea-capitis64.jpg berhasil diunduh.\n",
            "Gambar 1422_tinea-capitis65.jpg berhasil diunduh.\n",
            "Gambar 1422_tinea-capitis66.jpg berhasil diunduh.\n",
            "Gambar 1422_tinea-capitis67.jpg berhasil diunduh.\n",
            "Gambar 1422_tinea-capitis68.jpg berhasil diunduh.\n",
            "Gambar 1422_tinea-capitis69.jpg berhasil diunduh.\n",
            "Gambar 1422_tinea-capitis70.jpg berhasil diunduh.\n",
            "Gambar 1422_tinea-capitis71.jpg berhasil diunduh.\n",
            "Gambar 1422_tinea-capitis73.jpg berhasil diunduh.\n",
            "Gambar 1422_tinea-capitis74.jpg berhasil diunduh.\n",
            "Gambar 1422_tinea-capitis75.jpg berhasil diunduh.\n",
            "Gambar 1422_tinea-capitis76.jpg berhasil diunduh.\n",
            "Gambar 1422_tinea-capitis77.jpg berhasil diunduh.\n",
            "Gambar 1422_tinea-capitis78.jpg berhasil diunduh.\n",
            "Gambar 1422_tinea-capitis79.jpg berhasil diunduh.\n",
            "Gambar 1422_tinea-capitis80.jpg berhasil diunduh.\n",
            "Gambar 1422_tinea-capitis81.jpg berhasil diunduh.\n",
            "Gambar 1422_tinea-capitis82.jpg berhasil diunduh.\n"
          ]
        }
      ]
    }
  ]
}